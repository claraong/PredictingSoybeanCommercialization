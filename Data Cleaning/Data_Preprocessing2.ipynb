{
 "cells": [
  {
   "cell_type": "markdown",
   "metadata": {
    "collapsed": true
   },
   "source": [
    "# Adding two new features"
   ]
  },
  {
   "cell_type": "code",
   "execution_count": 1,
   "metadata": {
    "collapsed": true
   },
   "outputs": [],
   "source": [
    "using PyPlot, Compat, DataFrames"
   ]
  },
  {
   "cell_type": "code",
   "execution_count": 9,
   "metadata": {
    "collapsed": false
   },
   "outputs": [],
   "source": [
    "dataDirectory = \"Student_Team_Competition_Syngenta_Data/\";\n",
    "file = \"EXPERIMENT DATA CSV (Cleaned).csv\";\n",
    "readData = dataDirectory * file;\n",
    "df = readtable(readData);\n",
    "varietiesonce = readtable(dataDirectory*\"VarietiesOnce.csv\");"
   ]
  },
  {
   "cell_type": "code",
   "execution_count": 12,
   "metadata": {
    "collapsed": false
   },
   "outputs": [
    {
     "name": "stdout",
     "output_type": "stream",
     "text": [
      "size(varietiesonce) = (14986,1)\n"
     ]
    },
    {
     "data": {
      "text/plain": [
       "(14986,1)"
      ]
     },
     "execution_count": 12,
     "metadata": {},
     "output_type": "execute_result"
    }
   ],
   "source": [
    "@show size(varietiesonce)"
   ]
  },
  {
   "cell_type": "code",
   "execution_count": null,
   "metadata": {
    "collapsed": false
   },
   "outputs": [],
   "source": [
    "# Data cleaning\n",
    "\n",
    "# add new featuers: RM_GRP and YIELD_GRP\n",
    "df[13] = floor(df[:RM])\n",
    "df[14] = 10*floor(df[:YIELD]/10)\n",
    "df[15] = 0\n",
    "for (i in 1:size(df)[1])\n",
    "    for (j in 1:size(varietiesonce)[1])\n",
    "        if (df[i, :VARIETY] == varietiesonce[j,1]) # Variety only tested in one year\n",
    "        df[i,15] = 1\n",
    "        else\n",
    "        df[i,15] = 0 \n",
    "        end\n",
    "    end\n",
    "end\n",
    "\n",
    "\n",
    "    \n",
    "\n",
    "tail(df)"
   ]
  },
  {
   "cell_type": "code",
   "execution_count": 4,
   "metadata": {
    "collapsed": false
   },
   "outputs": [
    {
     "data": {
      "text/html": [
       "<table class=\"data-frame\"><tr><th></th><th>YEAR</th><th>EXPERIMENT</th><th>LOCATION</th><th>VARIETY</th><th>FAMILY</th><th>CHECK</th><th>RM</th><th>REPNO</th><th>YIELD</th><th>CLASS_OF</th><th>GRAD</th><th>BAGSOLD</th><th>x13</th><th>x14</th><th>x15</th></tr><tr><th>1</th><td>2009</td><td>09YT000052</td><td>3210</td><td>V000016</td><td>FAM05619</td><td>true</td><td>3.9</td><td>1</td><td>50.3023273</td><td>-1</td><td>-1</td><td>-1</td><td>3.0</td><td>50.0</td><td>1</td></tr><tr><th>2</th><td>2009</td><td>09YT000052</td><td>3210</td><td>V000016</td><td>FAM05619</td><td>true</td><td>3.9</td><td>2</td><td>48.3313053</td><td>-1</td><td>-1</td><td>-1</td><td>3.0</td><td>40.0</td><td>1</td></tr><tr><th>3</th><td>2009</td><td>09YT000052</td><td>3210</td><td>V000018</td><td>FAM05619</td><td>true</td><td>3.7</td><td>1</td><td>53.1032456</td><td>-1</td><td>-1</td><td>-1</td><td>3.0</td><td>50.0</td><td>1</td></tr><tr><th>4</th><td>2009</td><td>09YT000052</td><td>3210</td><td>V000018</td><td>FAM05619</td><td>true</td><td>3.7</td><td>2</td><td>53.1032456</td><td>-1</td><td>-1</td><td>-1</td><td>3.0</td><td>50.0</td><td>1</td></tr><tr><th>5</th><td>2009</td><td>09YT000052</td><td>3210</td><td>V000039</td><td>FAM05625</td><td>true</td><td>3.4</td><td>1</td><td>58.0811359</td><td>-1</td><td>-1</td><td>-1</td><td>3.0</td><td>50.0</td><td>1</td></tr><tr><th>6</th><td>2009</td><td>09YT000052</td><td>3210</td><td>V000039</td><td>FAM05625</td><td>true</td><td>3.4</td><td>2</td><td>58.2893163</td><td>-1</td><td>-1</td><td>-1</td><td>3.0</td><td>50.0</td><td>1</td></tr></table>"
      ],
      "text/plain": [
       "6×15 DataFrames.DataFrame\n",
       "│ Row │ YEAR │ EXPERIMENT   │ LOCATION │ VARIETY   │ FAMILY     │ CHECK │ RM  │\n",
       "├─────┼──────┼──────────────┼──────────┼───────────┼────────────┼───────┼─────┤\n",
       "│ 1   │ 2009 │ \"09YT000052\" │ \"3210\"   │ \"V000016\" │ \"FAM05619\" │ true  │ 3.9 │\n",
       "│ 2   │ 2009 │ \"09YT000052\" │ \"3210\"   │ \"V000016\" │ \"FAM05619\" │ true  │ 3.9 │\n",
       "│ 3   │ 2009 │ \"09YT000052\" │ \"3210\"   │ \"V000018\" │ \"FAM05619\" │ true  │ 3.7 │\n",
       "│ 4   │ 2009 │ \"09YT000052\" │ \"3210\"   │ \"V000018\" │ \"FAM05619\" │ true  │ 3.7 │\n",
       "│ 5   │ 2009 │ \"09YT000052\" │ \"3210\"   │ \"V000039\" │ \"FAM05625\" │ true  │ 3.4 │\n",
       "│ 6   │ 2009 │ \"09YT000052\" │ \"3210\"   │ \"V000039\" │ \"FAM05625\" │ true  │ 3.4 │\n",
       "\n",
       "│ Row │ REPNO │ YIELD   │ CLASS_OF │ GRAD │ BAGSOLD │ x13 │ x14  │ x15 │\n",
       "├─────┼───────┼─────────┼──────────┼──────┼─────────┼─────┼──────┼─────┤\n",
       "│ 1   │ 1     │ 50.3023 │ -1       │ -1   │ -1      │ 3.0 │ 50.0 │ 1   │\n",
       "│ 2   │ 2     │ 48.3313 │ -1       │ -1   │ -1      │ 3.0 │ 40.0 │ 1   │\n",
       "│ 3   │ 1     │ 53.1032 │ -1       │ -1   │ -1      │ 3.0 │ 50.0 │ 1   │\n",
       "│ 4   │ 2     │ 53.1032 │ -1       │ -1   │ -1      │ 3.0 │ 50.0 │ 1   │\n",
       "│ 5   │ 1     │ 58.0811 │ -1       │ -1   │ -1      │ 3.0 │ 50.0 │ 1   │\n",
       "│ 6   │ 2     │ 58.2893 │ -1       │ -1   │ -1      │ 3.0 │ 50.0 │ 1   │"
      ]
     },
     "execution_count": 4,
     "metadata": {},
     "output_type": "execute_result"
    }
   ],
   "source": [
    "\n",
    "head(df)"
   ]
  },
  {
   "cell_type": "code",
   "execution_count": 5,
   "metadata": {
    "collapsed": false
   },
   "outputs": [
    {
     "data": {
      "text/html": [
       "<table class=\"data-frame\"><tr><th></th><th>YEAR</th><th>EXPERIMENT</th><th>LOCATION</th><th>VARIETY</th><th>FAMILY</th><th>CHECK</th><th>RM</th><th>REPNO</th><th>YIELD</th><th>RM_GRP</th><th>YIELD_GRP</th><th>CLASS_ABSENT</th><th>CLASS_OF</th><th>GRAD</th><th>BAGSOLD</th></tr><tr><th>1</th><td>2009</td><td>09YT000052</td><td>3210</td><td>V000016</td><td>FAM05619</td><td>true</td><td>3.9</td><td>1</td><td>50.3023273</td><td>3.0</td><td>50.0</td><td>1</td><td>-1</td><td>-1</td><td>-1</td></tr><tr><th>2</th><td>2009</td><td>09YT000052</td><td>3210</td><td>V000016</td><td>FAM05619</td><td>true</td><td>3.9</td><td>2</td><td>48.3313053</td><td>3.0</td><td>40.0</td><td>1</td><td>-1</td><td>-1</td><td>-1</td></tr><tr><th>3</th><td>2009</td><td>09YT000052</td><td>3210</td><td>V000018</td><td>FAM05619</td><td>true</td><td>3.7</td><td>1</td><td>53.1032456</td><td>3.0</td><td>50.0</td><td>1</td><td>-1</td><td>-1</td><td>-1</td></tr><tr><th>4</th><td>2009</td><td>09YT000052</td><td>3210</td><td>V000018</td><td>FAM05619</td><td>true</td><td>3.7</td><td>2</td><td>53.1032456</td><td>3.0</td><td>50.0</td><td>1</td><td>-1</td><td>-1</td><td>-1</td></tr><tr><th>5</th><td>2009</td><td>09YT000052</td><td>3210</td><td>V000039</td><td>FAM05625</td><td>true</td><td>3.4</td><td>1</td><td>58.0811359</td><td>3.0</td><td>50.0</td><td>1</td><td>-1</td><td>-1</td><td>-1</td></tr><tr><th>6</th><td>2009</td><td>09YT000052</td><td>3210</td><td>V000039</td><td>FAM05625</td><td>true</td><td>3.4</td><td>2</td><td>58.2893163</td><td>3.0</td><td>50.0</td><td>1</td><td>-1</td><td>-1</td><td>-1</td></tr></table>"
      ],
      "text/plain": [
       "6×15 DataFrames.DataFrame\n",
       "│ Row │ YEAR │ EXPERIMENT   │ LOCATION │ VARIETY   │ FAMILY     │ CHECK │ RM  │\n",
       "├─────┼──────┼──────────────┼──────────┼───────────┼────────────┼───────┼─────┤\n",
       "│ 1   │ 2009 │ \"09YT000052\" │ \"3210\"   │ \"V000016\" │ \"FAM05619\" │ true  │ 3.9 │\n",
       "│ 2   │ 2009 │ \"09YT000052\" │ \"3210\"   │ \"V000016\" │ \"FAM05619\" │ true  │ 3.9 │\n",
       "│ 3   │ 2009 │ \"09YT000052\" │ \"3210\"   │ \"V000018\" │ \"FAM05619\" │ true  │ 3.7 │\n",
       "│ 4   │ 2009 │ \"09YT000052\" │ \"3210\"   │ \"V000018\" │ \"FAM05619\" │ true  │ 3.7 │\n",
       "│ 5   │ 2009 │ \"09YT000052\" │ \"3210\"   │ \"V000039\" │ \"FAM05625\" │ true  │ 3.4 │\n",
       "│ 6   │ 2009 │ \"09YT000052\" │ \"3210\"   │ \"V000039\" │ \"FAM05625\" │ true  │ 3.4 │\n",
       "\n",
       "│ Row │ REPNO │ YIELD   │ RM_GRP │ YIELD_GRP │ CLASS_ABSENT │ CLASS_OF │ GRAD │\n",
       "├─────┼───────┼─────────┼────────┼───────────┼──────────────┼──────────┼──────┤\n",
       "│ 1   │ 1     │ 50.3023 │ 3.0    │ 50.0      │ 1            │ -1       │ -1   │\n",
       "│ 2   │ 2     │ 48.3313 │ 3.0    │ 40.0      │ 1            │ -1       │ -1   │\n",
       "│ 3   │ 1     │ 53.1032 │ 3.0    │ 50.0      │ 1            │ -1       │ -1   │\n",
       "│ 4   │ 2     │ 53.1032 │ 3.0    │ 50.0      │ 1            │ -1       │ -1   │\n",
       "│ 5   │ 1     │ 58.0811 │ 3.0    │ 50.0      │ 1            │ -1       │ -1   │\n",
       "│ 6   │ 2     │ 58.2893 │ 3.0    │ 50.0      │ 1            │ -1       │ -1   │\n",
       "\n",
       "│ Row │ BAGSOLD │\n",
       "├─────┼─────────┤\n",
       "│ 1   │ -1      │\n",
       "│ 2   │ -1      │\n",
       "│ 3   │ -1      │\n",
       "│ 4   │ -1      │\n",
       "│ 5   │ -1      │\n",
       "│ 6   │ -1      │"
      ]
     },
     "execution_count": 5,
     "metadata": {},
     "output_type": "execute_result"
    }
   ],
   "source": [
    "\n",
    "\n",
    "df[16:18] = copy(df[[:CLASS_OF, :GRAD, :BAGSOLD]])\n",
    "delete!(df, [:CLASS_OF, :GRAD, :BAGSOLD])\n",
    "\n",
    "names!(df, [:YEAR, :EXPERIMENT, :LOCATION, :VARIETY, :FAMILY, :CHECK, :RM, :REPNO, :YIELD, :RM_GRP, :YIELD_GRP, :CLASS_ABSENT, :CLASS_OF, :GRAD, :BAGSOLD]);\n",
    "\n",
    "head(df)"
   ]
  },
  {
   "cell_type": "markdown",
   "metadata": {},
   "source": [
    "# Grouping avg yield by family and by year"
   ]
  },
  {
   "cell_type": "code",
   "execution_count": 8,
   "metadata": {
    "collapsed": false
   },
   "outputs": [],
   "source": [
    "# Split into years 2009 - 2014, excluding class of 2014\n",
    "\n",
    "yearlist = 2009:2014\n",
    "dfList = [];\n",
    "for i in yearlist\n",
    "    k = copy(df);\n",
    "    k = k[k[:CLASS_OF].!= 2014,:];\n",
    "    k = k[k[:YEAR].== i,:];\n",
    "    push!(dfList,k);\n",
    "end\n"
   ]
  },
  {
   "cell_type": "code",
   "execution_count": 9,
   "metadata": {
    "collapsed": false
   },
   "outputs": [
    {
     "name": "stdout",
     "output_type": "stream",
     "text": [
      "size(dfList[i]) = (11207,15)\n",
      "size(dfList[i]) = (20240,15)\n",
      "size(dfList[i]) = (103906,15)\n",
      "size(dfList[i]) = (82826,15)\n",
      "size(dfList[i]) = (22029,15)\n",
      "size(dfList[i]) = (13455,15)\n"
     ]
    }
   ],
   "source": [
    "# shows the no of data records in each year, excluding class of 2014\n",
    "for i in 1:6\n",
    "    @show size(dfList[i])\n",
    "end"
   ]
  },
  {
   "cell_type": "code",
   "execution_count": 10,
   "metadata": {
    "collapsed": false
   },
   "outputs": [
    {
     "name": "stdout",
     "output_type": "stream",
     "text": [
      "size(uniquefamilies[i]) = (244,2)\n",
      "size(uniquefamilies[i]) = (246,2)\n",
      "size(uniquefamilies[i]) = (829,2)\n",
      "size(uniquefamilies[i]) = (871,2)\n",
      "size(uniquefamilies[i]) = (236,2)\n",
      "size(uniquefamilies[i]) = (155,2)\n"
     ]
    }
   ],
   "source": [
    "uniquefamilies = []\n",
    "for year in yearlist \n",
    "    groupbyfamily = by(dfList[year-2008], :FAMILY,nrow)\n",
    "    names!(groupbyfamily, [:FAMILY, :NROWS])\n",
    "    push!(uniquefamilies,groupbyfamily)\n",
    "end\n",
    "\n",
    "for i in 1:6\n",
    "    @show size(uniquefamilies[i])\n",
    "end;"
   ]
  },
  {
   "cell_type": "code",
   "execution_count": 11,
   "metadata": {
    "collapsed": false
   },
   "outputs": [],
   "source": [
    "function avgYieldPerFamily(i)\n",
    "    avg_yields =[]\n",
    "    for k in 1:size(uniquefamilies[i])[1]\n",
    "        yields = []\n",
    "        for j in 1:size(dfList[i])[1]\n",
    "\n",
    "            if (dfList[i][:FAMILY][j] == uniquefamilies[i][1][k] && dfList[i][:YEAR][j] == i+2008)\n",
    "                push!(yields,dfList[i][:YIELD][j])\n",
    "            end\n",
    "           \n",
    "        end\n",
    "    push!(avg_yields, mean(yields)) \n",
    "    end\n",
    "   return avg_yields\n",
    "end ;\n",
    "\n"
   ]
  },
  {
   "cell_type": "code",
   "execution_count": 12,
   "metadata": {
    "collapsed": false
   },
   "outputs": [
    {
     "data": {
      "text/html": [
       "<table class=\"data-frame\"><tr><th></th><th>FAMILY</th><th>NROWS</th><th>x3</th></tr><tr><th>1</th><td>FAM16708</td><td>4</td><td>47.748400225</td></tr><tr><th>2</th><td>FAM16802</td><td>4</td><td>49.617228049999994</td></tr><tr><th>3</th><td>FAM16806</td><td>5</td><td>57.013705859999995</td></tr><tr><th>4</th><td>FAM16808</td><td>6</td><td>56.42758888333333</td></tr><tr><th>5</th><td>FAM16817</td><td>6</td><td>65.38095603333333</td></tr><tr><th>6</th><td>FAM16850</td><td>17</td><td>58.106756064705884</td></tr></table>"
      ],
      "text/plain": [
       "6×3 DataFrames.DataFrame\n",
       "│ Row │ FAMILY     │ NROWS │ x3      │\n",
       "├─────┼────────────┼───────┼─────────┤\n",
       "│ 1   │ \"FAM16708\" │ 4     │ 47.7484 │\n",
       "│ 2   │ \"FAM16802\" │ 4     │ 49.6172 │\n",
       "│ 3   │ \"FAM16806\" │ 5     │ 57.0137 │\n",
       "│ 4   │ \"FAM16808\" │ 6     │ 56.4276 │\n",
       "│ 5   │ \"FAM16817\" │ 6     │ 65.381  │\n",
       "│ 6   │ \"FAM16850\" │ 17    │ 58.1068 │"
      ]
     },
     "execution_count": 12,
     "metadata": {},
     "output_type": "execute_result"
    }
   ],
   "source": [
    "uniquefamilies[1][3] = avgYieldPerFamily(1)\n",
    "tail(uniquefamilies[1])"
   ]
  },
  {
   "cell_type": "code",
   "execution_count": 13,
   "metadata": {
    "collapsed": false
   },
   "outputs": [],
   "source": [
    "# group average yield by family\n",
    "for i in 1:6\n",
    "    uniquefamilies[i][3] = avgYieldPerFamily(i)\n",
    "    names!(uniquefamilies[i], [:FAMILY, :NROWS, :AVGYIELD])\n",
    "end"
   ]
  },
  {
   "cell_type": "code",
   "execution_count": 13,
   "metadata": {
    "collapsed": true
   },
   "outputs": [],
   "source": [
    "# sort families by avg yield (highest first)\n",
    "for i in 1:6\n",
    "    sort!(uniquefamilies[i],cols = order(:AVGYIELD), rev=true)\n",
    "    #uniquefamilies[i][4] = cumsum(uniquefamilies[i][:NROWS])\n",
    "  #  names!(uniquefamilies[i], [:FAMILY, :NROWS, :AVGYIELD, :CUM_NROWS])\n",
    "end"
   ]
  },
  {
   "cell_type": "code",
   "execution_count": 14,
   "metadata": {
    "collapsed": false
   },
   "outputs": [
    {
     "data": {
      "text/html": [
       "<table class=\"data-frame\"><tr><th></th><th>FAMILY</th><th>NROWS</th><th>AVGYIELD</th></tr><tr><th>1</th><td>FAM00445</td><td>8</td><td>61.374214862500004</td></tr><tr><th>2</th><td>FAM00458</td><td>44</td><td>52.535470831818174</td></tr><tr><th>3</th><td>FAM00459</td><td>54</td><td>56.909220781481494</td></tr><tr><th>4</th><td>FAM00460</td><td>89</td><td>57.989894061797784</td></tr><tr><th>5</th><td>FAM00461</td><td>41</td><td>56.475974495121946</td></tr><tr><th>6</th><td>FAM01019</td><td>4</td><td>71.09806012499999</td></tr></table>"
      ],
      "text/plain": [
       "6×3 DataFrames.DataFrame\n",
       "│ Row │ FAMILY     │ NROWS │ AVGYIELD │\n",
       "├─────┼────────────┼───────┼──────────┤\n",
       "│ 1   │ \"FAM00445\" │ 8     │ 61.3742  │\n",
       "│ 2   │ \"FAM00458\" │ 44    │ 52.5355  │\n",
       "│ 3   │ \"FAM00459\" │ 54    │ 56.9092  │\n",
       "│ 4   │ \"FAM00460\" │ 89    │ 57.9899  │\n",
       "│ 5   │ \"FAM00461\" │ 41    │ 56.476   │\n",
       "│ 6   │ \"FAM01019\" │ 4     │ 71.0981  │"
      ]
     },
     "execution_count": 14,
     "metadata": {},
     "output_type": "execute_result"
    }
   ],
   "source": [
    "head(uniquefamilies[1])\n"
   ]
  },
  {
   "cell_type": "code",
   "execution_count": 22,
   "metadata": {
    "collapsed": false
   },
   "outputs": [
    {
     "data": {
      "text/html": [
       "<table class=\"data-frame\"><tr><th></th><th>FAMILY</th><th>NROWS</th><th>AVGYIELD</th></tr><tr><th>1</th><td>FAM00457</td><td>87</td><td>51.9364014551724</td></tr><tr><th>2</th><td>FAM00460</td><td>226</td><td>56.66648309469026</td></tr><tr><th>3</th><td>FAM00462</td><td>4</td><td>52.205096</td></tr><tr><th>4</th><td>FAM00505</td><td>71</td><td>58.93304391126759</td></tr><tr><th>5</th><td>FAM00506</td><td>6</td><td>45.669743933333336</td></tr><tr><th>6</th><td>FAM00507</td><td>59</td><td>55.53943996610169</td></tr></table>"
      ],
      "text/plain": [
       "6×3 DataFrames.DataFrame\n",
       "│ Row │ FAMILY     │ NROWS │ AVGYIELD │\n",
       "├─────┼────────────┼───────┼──────────┤\n",
       "│ 1   │ \"FAM00457\" │ 87    │ 51.9364  │\n",
       "│ 2   │ \"FAM00460\" │ 226   │ 56.6665  │\n",
       "│ 3   │ \"FAM00462\" │ 4     │ 52.2051  │\n",
       "│ 4   │ \"FAM00505\" │ 71    │ 58.933   │\n",
       "│ 5   │ \"FAM00506\" │ 6     │ 45.6697  │\n",
       "│ 6   │ \"FAM00507\" │ 59    │ 55.5394  │"
      ]
     },
     "execution_count": 22,
     "metadata": {},
     "output_type": "execute_result"
    }
   ],
   "source": [
    "head(uniquefamilies[2])"
   ]
  },
  {
   "cell_type": "code",
   "execution_count": 28,
   "metadata": {
    "collapsed": false
   },
   "outputs": [
    {
     "name": "stdout",
     "output_type": "stream",
     "text": [
      "numrows = 244\n",
      "numrows = 246\n",
      "numrows = 829\n",
      "numrows = 871\n",
      "numrows = 236\n",
      "numrows = 155\n",
      "nrowssegment = Any[[48.0,97.0,146.0,195.0,244.0],[49.0,98.0,147.0,196.0,246.0],[165.0,331.0,497.0,663.0,829.0],[174.0,348.0,522.0,696.0,871.0],[47.0,94.0,141.0,188.0,236.0],[31.0,62.0,93.0,124.0,155.0]]\n"
     ]
    },
    {
     "data": {
      "text/plain": [
       "6-element Array{Any,1}:\n",
       " [48.0,97.0,146.0,195.0,244.0]  \n",
       " [49.0,98.0,147.0,196.0,246.0]  \n",
       " [165.0,331.0,497.0,663.0,829.0]\n",
       " [174.0,348.0,522.0,696.0,871.0]\n",
       " [47.0,94.0,141.0,188.0,236.0]  \n",
       " [31.0,62.0,93.0,124.0,155.0]   "
      ]
     },
     "execution_count": 28,
     "metadata": {},
     "output_type": "execute_result"
    }
   ],
   "source": [
    "# segment the families into 20 percent segments\n",
    "nrowssegment = []\n",
    "for i in 1:6\n",
    "    numrows = size(uniquefamilies[i])[1]\n",
    "    @show numrows\n",
    "    twenties = zeros(5)\n",
    "    for j in 1:5\n",
    "        twenties[j] = convert(Int64,floor(j*numrows/5))\n",
    "    end\n",
    "    push!(nrowssegment, twenties)\n",
    "end\n",
    "@show nrowssegment"
   ]
  },
  {
   "cell_type": "code",
   "execution_count": 29,
   "metadata": {
    "collapsed": false
   },
   "outputs": [
    {
     "data": {
      "text/html": [
       "<table class=\"data-frame\"><tr><th></th><th>FAMILY</th><th>NROWS</th><th>AVGYIELD</th><th>SEGMENT</th></tr><tr><th>1</th><td>FAM00445</td><td>8</td><td>61.374214862500004</td><td>1</td></tr><tr><th>2</th><td>FAM00458</td><td>44</td><td>52.535470831818174</td><td>1</td></tr><tr><th>3</th><td>FAM00459</td><td>54</td><td>56.909220781481494</td><td>1</td></tr><tr><th>4</th><td>FAM00460</td><td>89</td><td>57.989894061797784</td><td>1</td></tr><tr><th>5</th><td>FAM00461</td><td>41</td><td>56.475974495121946</td><td>1</td></tr><tr><th>6</th><td>FAM01019</td><td>4</td><td>71.09806012499999</td><td>1</td></tr></table>"
      ],
      "text/plain": [
       "6×4 DataFrames.DataFrame\n",
       "│ Row │ FAMILY     │ NROWS │ AVGYIELD │ SEGMENT │\n",
       "├─────┼────────────┼───────┼──────────┼─────────┤\n",
       "│ 1   │ \"FAM00445\" │ 8     │ 61.3742  │ 1       │\n",
       "│ 2   │ \"FAM00458\" │ 44    │ 52.5355  │ 1       │\n",
       "│ 3   │ \"FAM00459\" │ 54    │ 56.9092  │ 1       │\n",
       "│ 4   │ \"FAM00460\" │ 89    │ 57.9899  │ 1       │\n",
       "│ 5   │ \"FAM00461\" │ 41    │ 56.476   │ 1       │\n",
       "│ 6   │ \"FAM01019\" │ 4     │ 71.0981  │ 1       │"
      ]
     },
     "execution_count": 29,
     "metadata": {},
     "output_type": "execute_result"
    }
   ],
   "source": [
    "# indicate which 20percent segment family belongs to\n",
    "for i in 1:6\n",
    "    uniquefamilies[i][4] = 0 # initialise segment column to 0\n",
    "    for row in 1:size(uniquefamilies[i])[1] # for every row\n",
    "        if (row <= nrowssegment[i][1])\n",
    "            uniquefamilies[i][row,4] = 1\n",
    "        elseif (row <= nrowssegment[i][2])\n",
    "            uniquefamilies[i][row, 4] = 2\n",
    "\n",
    "        elseif (row <= nrowssegment[i][3]) \n",
    "            uniquefamilies[i][row, 4] = 3\n",
    "        elseif (row <= nrowssegment[i][4])\n",
    "            uniquefamilies[i][row, 4] = 4\n",
    "\n",
    "        elseif (row <= nrowssegment[i][5])\n",
    "            uniquefamilies[i][row, 4] = 5\n",
    "\n",
    "        end\n",
    "    end\n",
    "    names!(uniquefamilies[i], [:FAMILY, :NROWS, :AVGYIELD, :SEGMENT])\n",
    "end\n",
    "head(uniquefamilies[1])"
   ]
  },
  {
   "cell_type": "code",
   "execution_count": 30,
   "metadata": {
    "collapsed": true
   },
   "outputs": [],
   "source": [
    "\n",
    "folder_string = \"UniqueFamilies/\"\n",
    "extension = \".csv\"\n",
    "for i in 1:6\n",
    "    writetable(folder_string*\"uniquefamilies\"*string(i)*extension,uniquefamilies[i])\n",
    "end\n"
   ]
  },
  {
   "cell_type": "code",
   "execution_count": 18,
   "metadata": {
    "collapsed": false
   },
   "outputs": [
    {
     "name": "stdout",
     "output_type": "stream",
     "text": [
      "numcols = (size(df))[2] = 15\n"
     ]
    },
    {
     "data": {
      "text/html": [
       "<table class=\"data-frame\"><tr><th></th><th>YEAR</th><th>EXPERIMENT</th><th>LOCATION</th><th>VARIETY</th><th>FAMILY</th><th>CHECK</th><th>RM</th><th>REPNO</th><th>YIELD</th><th>RM_GRP</th><th>YIELD_GRP</th><th>CLASS_ABSENT</th><th>CLASS_OF</th><th>GRAD</th><th>BAGSOLD</th></tr><tr><th>1</th><td>2009</td><td>09YT000052</td><td>3210</td><td>V000016</td><td>FAM05619</td><td>true</td><td>3.9</td><td>1</td><td>50.3023273</td><td>3.0</td><td>50.0</td><td>1</td><td>-1</td><td>-1</td><td>-1</td></tr><tr><th>2</th><td>2009</td><td>09YT000052</td><td>3210</td><td>V000016</td><td>FAM05619</td><td>true</td><td>3.9</td><td>2</td><td>48.3313053</td><td>3.0</td><td>40.0</td><td>1</td><td>-1</td><td>-1</td><td>-1</td></tr><tr><th>3</th><td>2009</td><td>09YT000052</td><td>3210</td><td>V000018</td><td>FAM05619</td><td>true</td><td>3.7</td><td>1</td><td>53.1032456</td><td>3.0</td><td>50.0</td><td>1</td><td>-1</td><td>-1</td><td>-1</td></tr><tr><th>4</th><td>2009</td><td>09YT000052</td><td>3210</td><td>V000018</td><td>FAM05619</td><td>true</td><td>3.7</td><td>2</td><td>53.1032456</td><td>3.0</td><td>50.0</td><td>1</td><td>-1</td><td>-1</td><td>-1</td></tr><tr><th>5</th><td>2009</td><td>09YT000052</td><td>3210</td><td>V000039</td><td>FAM05625</td><td>true</td><td>3.4</td><td>1</td><td>58.0811359</td><td>3.0</td><td>50.0</td><td>1</td><td>-1</td><td>-1</td><td>-1</td></tr><tr><th>6</th><td>2009</td><td>09YT000052</td><td>3210</td><td>V000039</td><td>FAM05625</td><td>true</td><td>3.4</td><td>2</td><td>58.2893163</td><td>3.0</td><td>50.0</td><td>1</td><td>-1</td><td>-1</td><td>-1</td></tr></table>"
      ],
      "text/plain": [
       "6×15 DataFrames.DataFrame\n",
       "│ Row │ YEAR │ EXPERIMENT   │ LOCATION │ VARIETY   │ FAMILY     │ CHECK │ RM  │\n",
       "├─────┼──────┼──────────────┼──────────┼───────────┼────────────┼───────┼─────┤\n",
       "│ 1   │ 2009 │ \"09YT000052\" │ \"3210\"   │ \"V000016\" │ \"FAM05619\" │ true  │ 3.9 │\n",
       "│ 2   │ 2009 │ \"09YT000052\" │ \"3210\"   │ \"V000016\" │ \"FAM05619\" │ true  │ 3.9 │\n",
       "│ 3   │ 2009 │ \"09YT000052\" │ \"3210\"   │ \"V000018\" │ \"FAM05619\" │ true  │ 3.7 │\n",
       "│ 4   │ 2009 │ \"09YT000052\" │ \"3210\"   │ \"V000018\" │ \"FAM05619\" │ true  │ 3.7 │\n",
       "│ 5   │ 2009 │ \"09YT000052\" │ \"3210\"   │ \"V000039\" │ \"FAM05625\" │ true  │ 3.4 │\n",
       "│ 6   │ 2009 │ \"09YT000052\" │ \"3210\"   │ \"V000039\" │ \"FAM05625\" │ true  │ 3.4 │\n",
       "\n",
       "│ Row │ REPNO │ YIELD   │ RM_GRP │ YIELD_GRP │ CLASS_ABSENT │ CLASS_OF │ GRAD │\n",
       "├─────┼───────┼─────────┼────────┼───────────┼──────────────┼──────────┼──────┤\n",
       "│ 1   │ 1     │ 50.3023 │ 3.0    │ 50.0      │ 1            │ -1       │ -1   │\n",
       "│ 2   │ 2     │ 48.3313 │ 3.0    │ 40.0      │ 1            │ -1       │ -1   │\n",
       "│ 3   │ 1     │ 53.1032 │ 3.0    │ 50.0      │ 1            │ -1       │ -1   │\n",
       "│ 4   │ 2     │ 53.1032 │ 3.0    │ 50.0      │ 1            │ -1       │ -1   │\n",
       "│ 5   │ 1     │ 58.0811 │ 3.0    │ 50.0      │ 1            │ -1       │ -1   │\n",
       "│ 6   │ 2     │ 58.2893 │ 3.0    │ 50.0      │ 1            │ -1       │ -1   │\n",
       "\n",
       "│ Row │ BAGSOLD │\n",
       "├─────┼─────────┤\n",
       "│ 1   │ -1      │\n",
       "│ 2   │ -1      │\n",
       "│ 3   │ -1      │\n",
       "│ 4   │ -1      │\n",
       "│ 5   │ -1      │\n",
       "│ 6   │ -1      │"
      ]
     },
     "execution_count": 18,
     "metadata": {},
     "output_type": "execute_result"
    }
   ],
   "source": [
    "@show numcols = size(df)[2] #15\n",
    "head(df)"
   ]
  },
  {
   "cell_type": "code",
   "execution_count": 19,
   "metadata": {
    "collapsed": false
   },
   "outputs": [
    {
     "data": {
      "text/html": [
       "<table class=\"data-frame\"><tr><th></th><th>YEAR</th><th>EXPERIMENT</th><th>LOCATION</th><th>VARIETY</th><th>FAMILY</th><th>CHECK</th><th>RM</th><th>REPNO</th><th>YIELD</th><th>RM_GRP</th><th>YIELD_GRP</th><th>CLASS_ABSENT</th><th>FAM_SEGMENT1</th><th>FAM_SEGMENT2</th><th>FAM_SEGMENT3</th><th>FAM_SEGMENT4</th><th>FAM_SEGMENT5</th><th>CLASS_OF</th><th>GRAD</th><th>BAGSOLD</th></tr><tr><th>1</th><td>2009</td><td>09YT000052</td><td>3210</td><td>V000016</td><td>FAM05619</td><td>true</td><td>3.9</td><td>1</td><td>50.3023273</td><td>3.0</td><td>50.0</td><td>1</td><td>0</td><td>0</td><td>0</td><td>0</td><td>0</td><td>-1</td><td>-1</td><td>-1</td></tr><tr><th>2</th><td>2009</td><td>09YT000052</td><td>3210</td><td>V000016</td><td>FAM05619</td><td>true</td><td>3.9</td><td>2</td><td>48.3313053</td><td>3.0</td><td>40.0</td><td>1</td><td>0</td><td>0</td><td>0</td><td>0</td><td>0</td><td>-1</td><td>-1</td><td>-1</td></tr><tr><th>3</th><td>2009</td><td>09YT000052</td><td>3210</td><td>V000018</td><td>FAM05619</td><td>true</td><td>3.7</td><td>1</td><td>53.1032456</td><td>3.0</td><td>50.0</td><td>1</td><td>0</td><td>0</td><td>0</td><td>0</td><td>0</td><td>-1</td><td>-1</td><td>-1</td></tr><tr><th>4</th><td>2009</td><td>09YT000052</td><td>3210</td><td>V000018</td><td>FAM05619</td><td>true</td><td>3.7</td><td>2</td><td>53.1032456</td><td>3.0</td><td>50.0</td><td>1</td><td>0</td><td>0</td><td>0</td><td>0</td><td>0</td><td>-1</td><td>-1</td><td>-1</td></tr><tr><th>5</th><td>2009</td><td>09YT000052</td><td>3210</td><td>V000039</td><td>FAM05625</td><td>true</td><td>3.4</td><td>1</td><td>58.0811359</td><td>3.0</td><td>50.0</td><td>1</td><td>0</td><td>0</td><td>0</td><td>0</td><td>0</td><td>-1</td><td>-1</td><td>-1</td></tr><tr><th>6</th><td>2009</td><td>09YT000052</td><td>3210</td><td>V000039</td><td>FAM05625</td><td>true</td><td>3.4</td><td>2</td><td>58.2893163</td><td>3.0</td><td>50.0</td><td>1</td><td>0</td><td>0</td><td>0</td><td>0</td><td>0</td><td>-1</td><td>-1</td><td>-1</td></tr></table>"
      ],
      "text/plain": [
       "6×20 DataFrames.DataFrame\n",
       "│ Row │ YEAR │ EXPERIMENT   │ LOCATION │ VARIETY   │ FAMILY     │ CHECK │ RM  │\n",
       "├─────┼──────┼──────────────┼──────────┼───────────┼────────────┼───────┼─────┤\n",
       "│ 1   │ 2009 │ \"09YT000052\" │ \"3210\"   │ \"V000016\" │ \"FAM05619\" │ true  │ 3.9 │\n",
       "│ 2   │ 2009 │ \"09YT000052\" │ \"3210\"   │ \"V000016\" │ \"FAM05619\" │ true  │ 3.9 │\n",
       "│ 3   │ 2009 │ \"09YT000052\" │ \"3210\"   │ \"V000018\" │ \"FAM05619\" │ true  │ 3.7 │\n",
       "│ 4   │ 2009 │ \"09YT000052\" │ \"3210\"   │ \"V000018\" │ \"FAM05619\" │ true  │ 3.7 │\n",
       "│ 5   │ 2009 │ \"09YT000052\" │ \"3210\"   │ \"V000039\" │ \"FAM05625\" │ true  │ 3.4 │\n",
       "│ 6   │ 2009 │ \"09YT000052\" │ \"3210\"   │ \"V000039\" │ \"FAM05625\" │ true  │ 3.4 │\n",
       "\n",
       "│ Row │ REPNO │ YIELD   │ RM_GRP │ YIELD_GRP │ CLASS_ABSENT │ FAM_SEGMENT1 │\n",
       "├─────┼───────┼─────────┼────────┼───────────┼──────────────┼──────────────┤\n",
       "│ 1   │ 1     │ 50.3023 │ 3.0    │ 50.0      │ 1            │ 0            │\n",
       "│ 2   │ 2     │ 48.3313 │ 3.0    │ 40.0      │ 1            │ 0            │\n",
       "│ 3   │ 1     │ 53.1032 │ 3.0    │ 50.0      │ 1            │ 0            │\n",
       "│ 4   │ 2     │ 53.1032 │ 3.0    │ 50.0      │ 1            │ 0            │\n",
       "│ 5   │ 1     │ 58.0811 │ 3.0    │ 50.0      │ 1            │ 0            │\n",
       "│ 6   │ 2     │ 58.2893 │ 3.0    │ 50.0      │ 1            │ 0            │\n",
       "\n",
       "│ Row │ FAM_SEGMENT2 │ FAM_SEGMENT3 │ FAM_SEGMENT4 │ FAM_SEGMENT5 │ CLASS_OF │\n",
       "├─────┼──────────────┼──────────────┼──────────────┼──────────────┼──────────┤\n",
       "│ 1   │ 0            │ 0            │ 0            │ 0            │ -1       │\n",
       "│ 2   │ 0            │ 0            │ 0            │ 0            │ -1       │\n",
       "│ 3   │ 0            │ 0            │ 0            │ 0            │ -1       │\n",
       "│ 4   │ 0            │ 0            │ 0            │ 0            │ -1       │\n",
       "│ 5   │ 0            │ 0            │ 0            │ 0            │ -1       │\n",
       "│ 6   │ 0            │ 0            │ 0            │ 0            │ -1       │\n",
       "\n",
       "│ Row │ GRAD │ BAGSOLD │\n",
       "├─────┼──────┼─────────┤\n",
       "│ 1   │ -1   │ -1      │\n",
       "│ 2   │ -1   │ -1      │\n",
       "│ 3   │ -1   │ -1      │\n",
       "│ 4   │ -1   │ -1      │\n",
       "│ 5   │ -1   │ -1      │\n",
       "│ 6   │ -1   │ -1      │"
      ]
     },
     "execution_count": 19,
     "metadata": {},
     "output_type": "execute_result"
    }
   ],
   "source": [
    "# PREPARE for one-hot encoding to indicate the segment of the family's avg yield\n",
    "for i in 1:size(nrowssegment[1])[1]\n",
    "    df[numcols+i] = 0\n",
    "end\n",
    "numcols = size(df)[2]\n",
    "df[numcols+1:numcols+3] = copy(df[[:CLASS_OF, :GRAD, :BAGSOLD]])\n",
    "delete!(df, [:CLASS_OF, :GRAD, :BAGSOLD])\n",
    "names!(df, [:YEAR, :EXPERIMENT, :LOCATION, :VARIETY, :FAMILY, :CHECK, :RM, :REPNO, :YIELD, :RM_GRP, :YIELD_GRP, :CLASS_ABSENT, :FAM_SEGMENT1, :FAM_SEGMENT2, :FAM_SEGMENT3, :FAM_SEGMENT4, :FAM_SEGMENT5, :CLASS_OF, :GRAD, :BAGSOLD])\n",
    "head(df)"
   ]
  },
  {
   "cell_type": "code",
   "execution_count": 20,
   "metadata": {
    "collapsed": false
   },
   "outputs": [
    {
     "data": {
      "text/plain": [
       "findSegment (generic function with 1 method)"
      ]
     },
     "execution_count": 20,
     "metadata": {},
     "output_type": "execute_result"
    }
   ],
   "source": [
    "function findSegment(i, family)\n",
    "for row in 1:size(uniquefamilies[i])[1]\n",
    "    if (uniquefamilies[i][row,:FAMILY] == family)\n",
    "        return uniquefamilies[i][row, :SEGMENT]    \n",
    "    end\n",
    "end\n",
    "    return -1 \n",
    "end"
   ]
  },
  {
   "cell_type": "code",
   "execution_count": 21,
   "metadata": {
    "collapsed": false
   },
   "outputs": [],
   "source": [
    "# DO one-hot encoding for family segment\n",
    "for row in 1:size(df)[1]\n",
    "    for year in 1:6\n",
    "        segment = findSegment(year, df[row,:FAMILY])\n",
    "        if (df[row, :YEAR] == year+2008 && segment!=-1)\n",
    "            if (segment == 1)\n",
    "                df[row, :FAM_SEGMENT1] = 1\n",
    "            elseif (segment ==2)\n",
    "                df[row, :FAM_SEGMENT2] = 1\n",
    "            elseif (segment ==3)\n",
    "                df[row, :FAM_SEGMENT3] = 1\n",
    "            elseif (segment==4)\n",
    "                df[row, :FAM_SEGMENT4] = 1\n",
    "            else\n",
    "                df[row, :FAM_SEGMENT5] = 1\n",
    "            end\n",
    "\n",
    "        end\n",
    "    end\n",
    "end\n"
   ]
  },
  {
   "cell_type": "markdown",
   "metadata": {},
   "source": [
    "# Split data into training, test and prediction set (Class of 2014)"
   ]
  },
  {
   "cell_type": "code",
   "execution_count": 28,
   "metadata": {
    "collapsed": false
   },
   "outputs": [],
   "source": [
    "# Split into years 2009 - 2014, excluding class of 2014\n",
    "# do this again as more columns have been added to df\n",
    "\n",
    "yearlist = 2009:2014\n",
    "dfList = [];\n",
    "for i in yearlist\n",
    "    k = copy(df);\n",
    "    k = k[k[:CLASS_OF].!= 2014,:];\n",
    "    k = k[k[:YEAR].== i,:];\n",
    "    push!(dfList,k);\n",
    "end\n",
    "\n",
    "\n",
    "# training[1] = 2009; test 2010\n",
    "# training[2] = 2009,2010; test 2011\n",
    "# training[3] = 2009,2010, 2011; test 2012\n",
    "# training[4] = 2009,2010,2011,2012; test 2013\n",
    "# training[5] = 2009,2010,2011,2012,2013; test 2014\n",
    "\n",
    "\n",
    "#test set\n",
    "folder_string = \"Split_Data4/\"\n",
    "extension = \".csv\"\n",
    "for i in yearlist\n",
    "    writetable(folder_string*\"test_\"*string(i)*extension,dfList[i-2008])\n",
    "end\n"
   ]
  },
  {
   "cell_type": "code",
   "execution_count": 29,
   "metadata": {
    "collapsed": false
   },
   "outputs": [
    {
     "data": {
      "text/plain": [
       "6-element Array{Any,1}:\n",
       " (11207,20) \n",
       " (20240,20) \n",
       " (103906,20)\n",
       " (82826,20) \n",
       " (22029,20) \n",
       " (13455,20) "
      ]
     },
     "execution_count": 29,
     "metadata": {},
     "output_type": "execute_result"
    }
   ],
   "source": [
    "# sizes of each test set\n",
    "sizes1 = [];\n",
    "for sets in dfList\n",
    "    push!(sizes1,size(sets));\n",
    "end\n",
    "sizes1"
   ]
  },
  {
   "cell_type": "code",
   "execution_count": 30,
   "metadata": {
    "collapsed": false
   },
   "outputs": [],
   "source": [
    "#prediction set\n",
    "predictionset = copy(df);\n",
    "predictionset = predictionset[predictionset[:CLASS_OF].== 2014,:];\n",
    "writetable(folder_string*\"prediction_set.csv\",predictionset);\n",
    "\n",
    "#training set\n",
    "training5 = copy(df);\n",
    "training5 = training5[training5[:CLASS_OF].!=2014,:];\n",
    "training5 = training5[training5[:YEAR].!=2014,:];\n",
    "training4 = copy(training5);\n",
    "training4 = training4[training4[:YEAR].!=2013,:];\n",
    "training3 = copy(training4);\n",
    "training3 = training3[training3[:YEAR].!=2012,:];\n",
    "training2 = copy(training3);\n",
    "training2 = training2[training2[:YEAR].!=2011,:];\n",
    "training1 = copy(dfList[1]);\n",
    "training = [training1,training2,training3,training4,training5];\n",
    "for i in 1:length(training)\n",
    "    writetable(folder_string*\"training\"* \"[\" * string(i)  *\"]\"*extension,training[i]);\n",
    "end\n",
    "\n"
   ]
  },
  {
   "cell_type": "code",
   "execution_count": null,
   "metadata": {
    "collapsed": true
   },
   "outputs": [],
   "source": []
  },
  {
   "cell_type": "raw",
   "metadata": {
    "collapsed": false
   },
   "source": [
    "# sizes of training sets\n",
    "sizes = [];\n",
    "for sets in training\n",
    "    push!(sizes,size(sets));\n",
    "end\n",
    "sizes"
   ]
  }
 ],
 "metadata": {
  "anaconda-cloud": {},
  "kernelspec": {
   "display_name": "Julia 0.5.0",
   "language": "julia",
   "name": "julia-0.5"
  },
  "language_info": {
   "file_extension": ".jl",
   "mimetype": "application/julia",
   "name": "julia",
   "version": "0.5.0"
  }
 },
 "nbformat": 4,
 "nbformat_minor": 0
}
